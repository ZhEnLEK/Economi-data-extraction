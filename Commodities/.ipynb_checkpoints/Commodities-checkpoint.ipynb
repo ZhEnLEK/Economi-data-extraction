{
 "cells": [
  {
   "cell_type": "code",
   "execution_count": 19,
   "id": "5e05945f",
   "metadata": {},
   "outputs": [],
   "source": [
    "import pandas as pd"
   ]
  },
  {
   "cell_type": "code",
   "execution_count": 20,
   "id": "cb2e5196",
   "metadata": {},
   "outputs": [],
   "source": [
    "import glob, os"
   ]
  },
  {
   "cell_type": "code",
   "execution_count": 21,
   "id": "7484bc64",
   "metadata": {},
   "outputs": [],
   "source": [
    "path =r\"C:\\Users\\zhenl\\Desktop\\Kit Loong\\Economic data and python file\\Commodities\"\n",
    "filenames = glob.glob(path + \"/*.xlsx\")"
   ]
  },
  {
   "cell_type": "code",
   "execution_count": 22,
   "id": "eea30ced",
   "metadata": {},
   "outputs": [
    {
     "data": {
      "text/plain": [
       "['C:\\\\Users\\\\zhenl\\\\Desktop\\\\Kit Loong\\\\Economic data and python file\\\\Commodities\\\\Jad 1-14 Buah-buahan.xlsx',\n",
       " 'C:\\\\Users\\\\zhenl\\\\Desktop\\\\Kit Loong\\\\Economic data and python file\\\\Commodities\\\\Jad 15-24 Sayur-Sayuran.xlsx',\n",
       " 'C:\\\\Users\\\\zhenl\\\\Desktop\\\\Kit Loong\\\\Economic data and python file\\\\Commodities\\\\Jad 25-29 Tanaman Lain.xlsx',\n",
       " 'C:\\\\Users\\\\zhenl\\\\Desktop\\\\Kit Loong\\\\Economic data and python file\\\\Commodities\\\\Jad 30-35 Ternakan.xlsx',\n",
       " 'C:\\\\Users\\\\zhenl\\\\Desktop\\\\Kit Loong\\\\Economic data and python file\\\\Commodities\\\\Jad 36-41 Perikanan.xlsx']"
      ]
     },
     "execution_count": 22,
     "metadata": {},
     "output_type": "execute_result"
    }
   ],
   "source": [
    "filenames"
   ]
  },
  {
   "cell_type": "code",
   "execution_count": 23,
   "id": "30e9fbf3",
   "metadata": {},
   "outputs": [
    {
     "data": {
      "text/plain": [
       "'C:\\\\Users\\\\zhenl\\\\Desktop\\\\Kit Loong\\\\Economic data and python file\\\\Commodities\\\\Jad 1-14 Buah-buahan.xlsx'"
      ]
     },
     "execution_count": 23,
     "metadata": {},
     "output_type": "execute_result"
    }
   ],
   "source": [
    "filenames[0]"
   ]
  },
  {
   "cell_type": "code",
   "execution_count": 24,
   "id": "2af6409d",
   "metadata": {},
   "outputs": [
    {
     "name": "stdout",
     "output_type": "stream",
     "text": [
      "C:\\Users\\zhenl\\Desktop\\Kit Loong\\Economic data and python file\\Commodities\\Jad 1-14 Buah-buahan.xlsx\n",
      "C:\\Users\\zhenl\\Desktop\\Kit Loong\\Economic data and python file\\Commodities\\Jad 15-24 Sayur-Sayuran.xlsx\n",
      "C:\\Users\\zhenl\\Desktop\\Kit Loong\\Economic data and python file\\Commodities\\Jad 25-29 Tanaman Lain.xlsx\n",
      "C:\\Users\\zhenl\\Desktop\\Kit Loong\\Economic data and python file\\Commodities\\Jad 30-35 Ternakan.xlsx\n",
      "C:\\Users\\zhenl\\Desktop\\Kit Loong\\Economic data and python file\\Commodities\\Jad 36-41 Perikanan.xlsx\n"
     ]
    }
   ],
   "source": [
    "dfs = []\n",
    "for filename in filenames:\n",
    "    print(filename)\n",
    "    dfs.append(pd.ExcelFile(filename))"
   ]
  },
  {
   "cell_type": "code",
   "execution_count": 25,
   "id": "7021ed04",
   "metadata": {},
   "outputs": [
    {
     "name": "stdout",
     "output_type": "stream",
     "text": [
      "Jad 1-14 Buah-buahan.xlsx\n",
      "Jad 15-24 Sayur-Sayuran.xlsx\n",
      "Jad 25-29 Tanaman Lain.xlsx\n",
      "Jad 30-35 Ternakan.xlsx\n",
      "Jad 36-41 Perikanan.xlsx\n"
     ]
    }
   ],
   "source": [
    "for filename in filenames:\n",
    "    #print(filename)\n",
    "    print(os.path.basename(filename))\n",
    "  "
   ]
  },
  {
   "cell_type": "code",
   "execution_count": 26,
   "id": "1d5d008f",
   "metadata": {},
   "outputs": [
    {
     "data": {
      "text/plain": [
       "[<pandas.io.excel._base.ExcelFile at 0x2e2b42a4ca0>,\n",
       " <pandas.io.excel._base.ExcelFile at 0x2e2b462f430>,\n",
       " <pandas.io.excel._base.ExcelFile at 0x2e2b3f33520>,\n",
       " <pandas.io.excel._base.ExcelFile at 0x2e2b3f33b20>,\n",
       " <pandas.io.excel._base.ExcelFile at 0x2e2b4a57070>]"
      ]
     },
     "execution_count": 26,
     "metadata": {},
     "output_type": "execute_result"
    }
   ],
   "source": [
    "dfs"
   ]
  },
  {
   "cell_type": "code",
   "execution_count": 27,
   "id": "a02717e6",
   "metadata": {},
   "outputs": [],
   "source": [
    "#dfs[0].parse(0, header=3)"
   ]
  },
  {
   "cell_type": "code",
   "execution_count": 28,
   "id": "dd2cc63e",
   "metadata": {},
   "outputs": [],
   "source": [
    "#dfs[0].parse(0).iloc[2].dropna()"
   ]
  },
  {
   "cell_type": "code",
   "execution_count": 29,
   "id": "3b87f9c2",
   "metadata": {},
   "outputs": [
    {
     "data": {
      "text/plain": [
       "2019"
      ]
     },
     "execution_count": 29,
     "metadata": {},
     "output_type": "execute_result"
    }
   ],
   "source": [
    "latest_year = pd.to_numeric(dfs[0].parse(0).iloc[2], errors='coerce').dropna().astype(int)[-1]\n",
    "latest_year"
   ]
  },
  {
   "cell_type": "code",
   "execution_count": 30,
   "id": "bfaa5016",
   "metadata": {},
   "outputs": [],
   "source": [
    "#for df in dfs:\n",
    " #   print('\\033[1m', os.path.basename(df), '\\033[0m')\n",
    "  #  for sh in df.sheet_names:\n",
    "   #     print(sh)\n",
    "        "
   ]
  },
  {
   "cell_type": "code",
   "execution_count": 31,
   "id": "7ed38e12",
   "metadata": {},
   "outputs": [
    {
     "name": "stdout",
     "output_type": "stream",
     "text": [
      "\u001b[1m From the filename: Jad 1-14 Buah-buahan.xlsx , \u001b[0m\n",
      "Coconut 790227.9013\n",
      "Pineapple 305217.34075\n",
      "Banana 353569.10211\n",
      "Watermelon 149974.71044999998\n",
      "Mango 54284.9375\n",
      "Rambutan 56836.340249999994\n",
      "Durian 383602.61053999997\n",
      "Mangosteen 32216.78254\n",
      "Jackfruit 59722.61022\n",
      "Guava 39133.72708000001\n",
      "Sweetcorn 63804.901869999994\n",
      "Papaya 54087.65091\n",
      "Starfruit 8063.2548000000015\n",
      "Langsat 20664.72643\n",
      "\u001b[1m From the filename: Jad 15-24 Sayur-Sayuran.xlsx , \u001b[0m\n",
      "Cabbage 185567.77333\n",
      "Tomato 178350.2042\n",
      "Chilli 93737.85467\n",
      "Cucumber 115629.65212999997\n",
      "Mustard 154301.05890000003\n",
      "Brinjal 41982.46797\n",
      "Longbean 63597.55019000001\n",
      "Ladysfinger 58617.43148\n",
      "Spinach 78532.15643\n",
      "Lettuce 57725.728870000006\n",
      "\u001b[1m From the filename: Jad 25-29 Tanaman Lain.xlsx , \u001b[0m\n",
      "Cassava 42809.508480000004\n",
      "Sweetpotato 70129.32068\n",
      "Sugarcane 20873.88538\n",
      "Ginger 70957.57051\n",
      "Lime 21937.202540000006\n",
      "\u001b[1m From the filename: Jad 30-35 Ternakan.xlsx , \u001b[0m\n",
      "Beef 191767.69168000002\n",
      "Mutton 35655.68402\n",
      "Pork 243142.74676999997\n",
      "Poultry 1789364.6797699998\n",
      "Egg 852477.80892\n",
      "Milk 70639.69153000001\n",
      "\u001b[1m From the filename: Jad 36-41 Perikanan.xlsx , \u001b[0m\n",
      "Shrimp 190221.50963200003\n",
      "Tuna 94644.71197\n",
      "Mackerel 192905.60283999998\n",
      "Crab 20388.562270000002\n",
      "Cuttlefish 96167.21244999999\n",
      "Tilapia 38605.35763599999\n"
     ]
    }
   ],
   "source": [
    "sum_commodities = 0.0\n",
    "com = []\n",
    "for df in dfs:\n",
    "    print('\\033[1m','From the filename:', os.path.basename(df),',','\\033[0m')\n",
    "    for sh in df.sheet_names:\n",
    "        data = df.parse(sh, header = 3)\n",
    "        print(sh, data[latest_year][4])\n",
    "        com.append([sh, data[latest_year][4]])\n",
    "        sum_commodities += data[latest_year][4]"
   ]
  },
  {
   "cell_type": "code",
   "execution_count": 32,
   "id": "f40c0c93",
   "metadata": {},
   "outputs": [
    {
     "name": "stdout",
     "output_type": "stream",
     "text": [
      "Total weight of all commodities for the year 2019 is 7442137.221997998 tonnes\n"
     ]
    }
   ],
   "source": [
    "print('Total weight of all commodities for the year', latest_year, 'is', sum_commodities, 'tonnes')"
   ]
  },
  {
   "cell_type": "code",
   "execution_count": 33,
   "id": "4e0a1bd3",
   "metadata": {},
   "outputs": [
    {
     "data": {
      "text/html": [
       "<div>\n",
       "<style scoped>\n",
       "    .dataframe tbody tr th:only-of-type {\n",
       "        vertical-align: middle;\n",
       "    }\n",
       "\n",
       "    .dataframe tbody tr th {\n",
       "        vertical-align: top;\n",
       "    }\n",
       "\n",
       "    .dataframe thead th {\n",
       "        text-align: right;\n",
       "    }\n",
       "</style>\n",
       "<table border=\"1\" class=\"dataframe\">\n",
       "  <thead>\n",
       "    <tr style=\"text-align: right;\">\n",
       "      <th></th>\n",
       "      <th>Items</th>\n",
       "      <th>Supply</th>\n",
       "    </tr>\n",
       "  </thead>\n",
       "  <tbody>\n",
       "    <tr>\n",
       "      <th>0</th>\n",
       "      <td>Coconut</td>\n",
       "      <td>7.902279e+05</td>\n",
       "    </tr>\n",
       "    <tr>\n",
       "      <th>1</th>\n",
       "      <td>Pineapple</td>\n",
       "      <td>3.052173e+05</td>\n",
       "    </tr>\n",
       "    <tr>\n",
       "      <th>2</th>\n",
       "      <td>Banana</td>\n",
       "      <td>3.535691e+05</td>\n",
       "    </tr>\n",
       "    <tr>\n",
       "      <th>3</th>\n",
       "      <td>Watermelon</td>\n",
       "      <td>1.499747e+05</td>\n",
       "    </tr>\n",
       "    <tr>\n",
       "      <th>4</th>\n",
       "      <td>Mango</td>\n",
       "      <td>5.428494e+04</td>\n",
       "    </tr>\n",
       "    <tr>\n",
       "      <th>5</th>\n",
       "      <td>Rambutan</td>\n",
       "      <td>5.683634e+04</td>\n",
       "    </tr>\n",
       "    <tr>\n",
       "      <th>6</th>\n",
       "      <td>Durian</td>\n",
       "      <td>3.836026e+05</td>\n",
       "    </tr>\n",
       "    <tr>\n",
       "      <th>7</th>\n",
       "      <td>Mangosteen</td>\n",
       "      <td>3.221678e+04</td>\n",
       "    </tr>\n",
       "    <tr>\n",
       "      <th>8</th>\n",
       "      <td>Jackfruit</td>\n",
       "      <td>5.972261e+04</td>\n",
       "    </tr>\n",
       "    <tr>\n",
       "      <th>9</th>\n",
       "      <td>Guava</td>\n",
       "      <td>3.913373e+04</td>\n",
       "    </tr>\n",
       "    <tr>\n",
       "      <th>10</th>\n",
       "      <td>Sweetcorn</td>\n",
       "      <td>6.380490e+04</td>\n",
       "    </tr>\n",
       "    <tr>\n",
       "      <th>11</th>\n",
       "      <td>Papaya</td>\n",
       "      <td>5.408765e+04</td>\n",
       "    </tr>\n",
       "    <tr>\n",
       "      <th>12</th>\n",
       "      <td>Starfruit</td>\n",
       "      <td>8.063255e+03</td>\n",
       "    </tr>\n",
       "    <tr>\n",
       "      <th>13</th>\n",
       "      <td>Langsat</td>\n",
       "      <td>2.066473e+04</td>\n",
       "    </tr>\n",
       "    <tr>\n",
       "      <th>14</th>\n",
       "      <td>Cabbage</td>\n",
       "      <td>1.855678e+05</td>\n",
       "    </tr>\n",
       "    <tr>\n",
       "      <th>15</th>\n",
       "      <td>Tomato</td>\n",
       "      <td>1.783502e+05</td>\n",
       "    </tr>\n",
       "    <tr>\n",
       "      <th>16</th>\n",
       "      <td>Chilli</td>\n",
       "      <td>9.373785e+04</td>\n",
       "    </tr>\n",
       "    <tr>\n",
       "      <th>17</th>\n",
       "      <td>Cucumber</td>\n",
       "      <td>1.156297e+05</td>\n",
       "    </tr>\n",
       "    <tr>\n",
       "      <th>18</th>\n",
       "      <td>Mustard</td>\n",
       "      <td>1.543011e+05</td>\n",
       "    </tr>\n",
       "    <tr>\n",
       "      <th>19</th>\n",
       "      <td>Brinjal</td>\n",
       "      <td>4.198247e+04</td>\n",
       "    </tr>\n",
       "    <tr>\n",
       "      <th>20</th>\n",
       "      <td>Longbean</td>\n",
       "      <td>6.359755e+04</td>\n",
       "    </tr>\n",
       "    <tr>\n",
       "      <th>21</th>\n",
       "      <td>Ladysfinger</td>\n",
       "      <td>5.861743e+04</td>\n",
       "    </tr>\n",
       "    <tr>\n",
       "      <th>22</th>\n",
       "      <td>Spinach</td>\n",
       "      <td>7.853216e+04</td>\n",
       "    </tr>\n",
       "    <tr>\n",
       "      <th>23</th>\n",
       "      <td>Lettuce</td>\n",
       "      <td>5.772573e+04</td>\n",
       "    </tr>\n",
       "    <tr>\n",
       "      <th>24</th>\n",
       "      <td>Cassava</td>\n",
       "      <td>4.280951e+04</td>\n",
       "    </tr>\n",
       "    <tr>\n",
       "      <th>25</th>\n",
       "      <td>Sweetpotato</td>\n",
       "      <td>7.012932e+04</td>\n",
       "    </tr>\n",
       "    <tr>\n",
       "      <th>26</th>\n",
       "      <td>Sugarcane</td>\n",
       "      <td>2.087389e+04</td>\n",
       "    </tr>\n",
       "    <tr>\n",
       "      <th>27</th>\n",
       "      <td>Ginger</td>\n",
       "      <td>7.095757e+04</td>\n",
       "    </tr>\n",
       "    <tr>\n",
       "      <th>28</th>\n",
       "      <td>Lime</td>\n",
       "      <td>2.193720e+04</td>\n",
       "    </tr>\n",
       "    <tr>\n",
       "      <th>29</th>\n",
       "      <td>Beef</td>\n",
       "      <td>1.917677e+05</td>\n",
       "    </tr>\n",
       "    <tr>\n",
       "      <th>30</th>\n",
       "      <td>Mutton</td>\n",
       "      <td>3.565568e+04</td>\n",
       "    </tr>\n",
       "    <tr>\n",
       "      <th>31</th>\n",
       "      <td>Pork</td>\n",
       "      <td>2.431427e+05</td>\n",
       "    </tr>\n",
       "    <tr>\n",
       "      <th>32</th>\n",
       "      <td>Poultry</td>\n",
       "      <td>1.789365e+06</td>\n",
       "    </tr>\n",
       "    <tr>\n",
       "      <th>33</th>\n",
       "      <td>Egg</td>\n",
       "      <td>8.524778e+05</td>\n",
       "    </tr>\n",
       "    <tr>\n",
       "      <th>34</th>\n",
       "      <td>Milk</td>\n",
       "      <td>7.063969e+04</td>\n",
       "    </tr>\n",
       "    <tr>\n",
       "      <th>35</th>\n",
       "      <td>Shrimp</td>\n",
       "      <td>1.902215e+05</td>\n",
       "    </tr>\n",
       "    <tr>\n",
       "      <th>36</th>\n",
       "      <td>Tuna</td>\n",
       "      <td>9.464471e+04</td>\n",
       "    </tr>\n",
       "    <tr>\n",
       "      <th>37</th>\n",
       "      <td>Mackerel</td>\n",
       "      <td>1.929056e+05</td>\n",
       "    </tr>\n",
       "    <tr>\n",
       "      <th>38</th>\n",
       "      <td>Crab</td>\n",
       "      <td>2.038856e+04</td>\n",
       "    </tr>\n",
       "    <tr>\n",
       "      <th>39</th>\n",
       "      <td>Cuttlefish</td>\n",
       "      <td>9.616721e+04</td>\n",
       "    </tr>\n",
       "    <tr>\n",
       "      <th>40</th>\n",
       "      <td>Tilapia</td>\n",
       "      <td>3.860536e+04</td>\n",
       "    </tr>\n",
       "  </tbody>\n",
       "</table>\n",
       "</div>"
      ],
      "text/plain": [
       "          Items        Supply\n",
       "0       Coconut  7.902279e+05\n",
       "1     Pineapple  3.052173e+05\n",
       "2        Banana  3.535691e+05\n",
       "3    Watermelon  1.499747e+05\n",
       "4         Mango  5.428494e+04\n",
       "5      Rambutan  5.683634e+04\n",
       "6        Durian  3.836026e+05\n",
       "7    Mangosteen  3.221678e+04\n",
       "8     Jackfruit  5.972261e+04\n",
       "9         Guava  3.913373e+04\n",
       "10    Sweetcorn  6.380490e+04\n",
       "11       Papaya  5.408765e+04\n",
       "12    Starfruit  8.063255e+03\n",
       "13      Langsat  2.066473e+04\n",
       "14      Cabbage  1.855678e+05\n",
       "15       Tomato  1.783502e+05\n",
       "16       Chilli  9.373785e+04\n",
       "17     Cucumber  1.156297e+05\n",
       "18      Mustard  1.543011e+05\n",
       "19      Brinjal  4.198247e+04\n",
       "20     Longbean  6.359755e+04\n",
       "21  Ladysfinger  5.861743e+04\n",
       "22      Spinach  7.853216e+04\n",
       "23      Lettuce  5.772573e+04\n",
       "24      Cassava  4.280951e+04\n",
       "25  Sweetpotato  7.012932e+04\n",
       "26    Sugarcane  2.087389e+04\n",
       "27       Ginger  7.095757e+04\n",
       "28         Lime  2.193720e+04\n",
       "29         Beef  1.917677e+05\n",
       "30       Mutton  3.565568e+04\n",
       "31         Pork  2.431427e+05\n",
       "32      Poultry  1.789365e+06\n",
       "33          Egg  8.524778e+05\n",
       "34         Milk  7.063969e+04\n",
       "35       Shrimp  1.902215e+05\n",
       "36         Tuna  9.464471e+04\n",
       "37     Mackerel  1.929056e+05\n",
       "38         Crab  2.038856e+04\n",
       "39   Cuttlefish  9.616721e+04\n",
       "40      Tilapia  3.860536e+04"
      ]
     },
     "execution_count": 33,
     "metadata": {},
     "output_type": "execute_result"
    }
   ],
   "source": [
    "df_coms = pd.DataFrame(com, columns = ['Items', 'Supply'])\n",
    "df_coms"
   ]
  },
  {
   "cell_type": "code",
   "execution_count": 34,
   "id": "7e8bf4d0",
   "metadata": {},
   "outputs": [
    {
     "data": {
      "text/plain": [
       "'\\nfor index, row in df_coms.iterrows():\\n    print(row.Items)\\n'"
      ]
     },
     "execution_count": 34,
     "metadata": {},
     "output_type": "execute_result"
    }
   ],
   "source": [
    "\"\"\"\n",
    "for index, row in df_coms.iterrows():\n",
    "    print(row.Items)\n",
    "\"\"\""
   ]
  },
  {
   "cell_type": "code",
   "execution_count": 35,
   "id": "38d0af25",
   "metadata": {},
   "outputs": [
    {
     "data": {
      "text/plain": [
       "'\\n## THis command is to fill up Commodities items ID\\n\\nimport pyodbc\\n\\nserver = \\'DESKTOP-U753JSI\\' \\ndatabase = \\'Economic\\' \\ncnxn = pyodbc.connect(\\'DRIVER={SQL Server};SERVER=\\'+server+\\';DATABASE=\\'+database+\\';Trusted_Connection = yes\\')\\ncursor = cnxn.cursor()\\n# Insert Dataframe into SQL Server:\\nfor index, row in df_coms.iterrows():\\n     cursor.execute(\"INSERT INTO Economy.Commodities_ID (Commodity_items) values(?)\", row.Items)\\n\\ncursor.execute(\"INSERT INTO Economy.Commodities_ID (Commodity_items) values(?)\", \"Total\")\\n\\ncnxn.commit()\\ncursor.close()\\n\\n'"
      ]
     },
     "execution_count": 35,
     "metadata": {},
     "output_type": "execute_result"
    }
   ],
   "source": [
    "\"\"\"\n",
    "## THis command is to fill up Commodities items ID\n",
    "\n",
    "import pyodbc\n",
    "\n",
    "server = 'DESKTOP-U753JSI' \n",
    "database = 'Economic' \n",
    "cnxn = pyodbc.connect('DRIVER={SQL Server};SERVER='+server+';DATABASE='+database+';Trusted_Connection = yes')\n",
    "cursor = cnxn.cursor()\n",
    "# Insert Dataframe into SQL Server:\n",
    "for index, row in df_coms.iterrows():\n",
    "     cursor.execute(\"INSERT INTO Economy.Commodities_ID (Commodity_items) values(?)\", row.Items)\n",
    "\n",
    "cursor.execute(\"INSERT INTO Economy.Commodities_ID (Commodity_items) values(?)\", \"Total\")\n",
    "\n",
    "cnxn.commit()\n",
    "cursor.close()\n",
    "\n",
    "\"\"\""
   ]
  },
  {
   "cell_type": "code",
   "execution_count": 36,
   "id": "fd198f27",
   "metadata": {},
   "outputs": [
    {
     "data": {
      "text/plain": [
       "'\\nimport pyodbc, os\\nfrom datetime import date, datetime\\n\\nserver = \\'DESKTOP-U753JSI\\' \\ndatabase = \\'Economic\\' \\ncnxn = pyodbc.connect(\\'DRIVER={SQL Server};SERVER=\\'+server+\\';DATABASE=\\'+database+\\';Trusted_Connection = yes\\')\\ncursor = cnxn.cursor()\\n# Insert Dataframe into SQL Server:\\n#for index, row in df_gdp.iterrows():\\n   #  cursor.execute(\"INSERT INTO Economy.GDPRecord (Indicator_ID,Sector_ID,Country_ID, Year,Quarter, Value,Is_Q2Q,Date_Created, Created_By,Date_Modified, Modified_By, Is_Active, Is_Delete) values(?,?,?,?,?,?,?,?,?,?,?,?,?)\",\\n    #                index+1, row.AnnualGrowthRate)\\nindex_total = 1\\nfor index, row in df_coms.iterrows():\\n    index_total +=1\\n    cursor.execute(\"INSERT INTO Economy.Commodities (Indicator_ID, Commodities_ID, Country_ID, Year, Volume_tonnes, Date_Created, Created_By,Date_Modified, Modified_By, Is_Active, Is_Delete) values(?,?,?,?,?,?,?,?,?,?,?)\",\\n                    6, index+1, 1, int(latest_year),row.Supply, datetime.now().strftime(\\'%Y/%m/%d %H:%M:%S\\'),1, datetime.now().strftime(\\'%Y/%m/%d %H:%M:%S\\'),1,1,0)\\n\\ncursor.execute(\"INSERT INTO Economy.Commodities (Indicator_ID, Commodities_ID, Country_ID, Year, Volume_tonnes, Date_Created, Created_By,Date_Modified, Modified_By, Is_Active, Is_Delete) values(?,?,?,?,?,?,?,?,?,?,?)\",\\n                    6, index_total, 1, int(latest_year),sum_commodities, datetime.now().strftime(\\'%Y/%m/%d %H:%M:%S\\'),1, datetime.now().strftime(\\'%Y/%m/%d %H:%M:%S\\'),1,1,0)\\n\\ncnxn.commit()\\ncursor.close()\\n'"
      ]
     },
     "execution_count": 36,
     "metadata": {},
     "output_type": "execute_result"
    }
   ],
   "source": [
    "\"\"\"\n",
    "import pyodbc, os\n",
    "from datetime import date, datetime\n",
    "\n",
    "server = 'DESKTOP-U753JSI' \n",
    "database = 'Economic' \n",
    "cnxn = pyodbc.connect('DRIVER={SQL Server};SERVER='+server+';DATABASE='+database+';Trusted_Connection = yes')\n",
    "cursor = cnxn.cursor()\n",
    "# Insert Dataframe into SQL Server:\n",
    "#for index, row in df_gdp.iterrows():\n",
    "   #  cursor.execute(\"INSERT INTO Economy.GDPRecord (Indicator_ID,Sector_ID,Country_ID, Year,Quarter, Value,Is_Q2Q,Date_Created, Created_By,Date_Modified, Modified_By, Is_Active, Is_Delete) values(?,?,?,?,?,?,?,?,?,?,?,?,?)\",\n",
    "    #                index+1, row.AnnualGrowthRate)\n",
    "index_total = 1\n",
    "for index, row in df_coms.iterrows():\n",
    "    index_total +=1\n",
    "    cursor.execute(\"INSERT INTO Economy.Commodities (Indicator_ID, Commodities_ID, Country_ID, Year, Volume_tonnes, Date_Created, Created_By,Date_Modified, Modified_By, Is_Active, Is_Delete) values(?,?,?,?,?,?,?,?,?,?,?)\",\n",
    "                    6, index+1, 1, int(latest_year),row.Supply, datetime.now().strftime('%Y/%m/%d %H:%M:%S'),1, datetime.now().strftime('%Y/%m/%d %H:%M:%S'),1,1,0)\n",
    "\n",
    "cursor.execute(\"INSERT INTO Economy.Commodities (Indicator_ID, Commodities_ID, Country_ID, Year, Volume_tonnes, Date_Created, Created_By,Date_Modified, Modified_By, Is_Active, Is_Delete) values(?,?,?,?,?,?,?,?,?,?,?)\",\n",
    "                    6, index_total, 1, int(latest_year),sum_commodities, datetime.now().strftime('%Y/%m/%d %H:%M:%S'),1, datetime.now().strftime('%Y/%m/%d %H:%M:%S'),1,1,0)\n",
    "\n",
    "cnxn.commit()\n",
    "cursor.close()\n",
    "\"\"\""
   ]
  },
  {
   "cell_type": "code",
   "execution_count": 37,
   "id": "efaa71c4",
   "metadata": {},
   "outputs": [],
   "source": [
    "import pyodbc, os\n",
    "from datetime import date, datetime\n",
    "\n",
    "server = 'DESKTOP-U753JSI' \n",
    "database = 'Economic' \n",
    "cnxn = pyodbc.connect('DRIVER={SQL Server};SERVER='+server+';DATABASE='+database+';Trusted_Connection = yes')\n",
    "cursor = cnxn.cursor()\n",
    "# Insert Dataframe into SQL Server:\n",
    "#for index, row in df_gdp.iterrows():\n",
    "   #  cursor.execute(\"INSERT INTO Economy.GDPRecord (Indicator_ID,Sector_ID,Country_ID, Year,Quarter, Value,Is_Q2Q,Date_Created, Created_By,Date_Modified, Modified_By, Is_Active, Is_Delete) values(?,?,?,?,?,?,?,?,?,?,?,?,?)\",\n",
    "    #                index+1, row.AnnualGrowthRate)\n",
    "index_total = 1\n",
    "for index, row in df_coms.iterrows():\n",
    "    index_total +=1\n",
    "    cursor.execute('[dbo].[SP_COMMODITIES_I_220117] @Indicator_ID = 6 , @Commodities_ID = '+str(index+1)+' , @Country_ID= 1 ,@Year='+str(latest_year)+', @Volume_tonnes='+ str(row.Supply))\n",
    "\n",
    "cursor.execute('[dbo].[SP_COMMODITIES_I_220117] @Indicator_ID = 6 , @Commodities_ID = '+str(index_total)+' , @Country_ID= 1 ,@Year='+str(latest_year)+', @Volume_tonnes='+ str(sum_commodities))\n",
    "\n",
    "    \n",
    "#cursor.execute(\"INSERT INTO Economy.Commodities (Indicator_ID, Commodities_ID, Country_ID, Year, Volume_tonnes, Date_Created, Created_By,Date_Modified, Modified_By, Is_Active, Is_Delete) values(?,?,?,?,?,?,?,?,?,?,?)\",\n",
    " #                   6, index_total, 1, int(latest_year),sum_commodities, datetime.now().strftime('%Y/%m/%d %H:%M:%S'),1, datetime.now().strftime('%Y/%m/%d %H:%M:%S'),1,1,0)\n",
    "\n",
    "cnxn.commit()\n",
    "cursor.close()"
   ]
  },
  {
   "cell_type": "code",
   "execution_count": null,
   "id": "5399d447",
   "metadata": {},
   "outputs": [],
   "source": []
  }
 ],
 "metadata": {
  "kernelspec": {
   "display_name": "Python 3 (ipykernel)",
   "language": "python",
   "name": "python3"
  },
  "language_info": {
   "codemirror_mode": {
    "name": "ipython",
    "version": 3
   },
   "file_extension": ".py",
   "mimetype": "text/x-python",
   "name": "python",
   "nbconvert_exporter": "python",
   "pygments_lexer": "ipython3",
   "version": "3.8.10"
  }
 },
 "nbformat": 4,
 "nbformat_minor": 5
}
